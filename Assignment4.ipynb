{
 "cells": [
  {
   "cell_type": "code",
   "execution_count": 1,
   "id": "d8111eb1",
   "metadata": {},
   "outputs": [],
   "source": [
    "import numpy as np\n",
    "import math"
   ]
  },
  {
   "cell_type": "code",
   "execution_count": 16,
   "id": "99a72f71",
   "metadata": {},
   "outputs": [],
   "source": [
    "# Indexing all four characters \n",
    "index = {'A': 0,\n",
    "         'C': 1,\n",
    "         'G': 2,\n",
    "         'T': 3,\n",
    "         '$': 4}\n",
    "\n",
    "# Offsets observed to select in first column, this must be added to rand to run the select\n",
    "offset = {'A': -1,\n",
    "          'C': 45648951,\n",
    "          'G': 45648952 + 29813353 - 1,\n",
    "          'T': 45648952 + 29813353 + 29865831 - 1,\n",
    "          '$': 151100559}\n",
    "\n",
    "rev_map = {'A': 'T',\n",
    "           'C': 'G',\n",
    "           'G': 'C',\n",
    "           'T': 'A',\n",
    "           '$': '$'}"
   ]
  },
  {
   "cell_type": "code",
   "execution_count": 17,
   "id": "d7149e6d",
   "metadata": {},
   "outputs": [],
   "source": [
    "delta = 1000\n",
    "\n",
    "data_map = np.loadtxt(\"../data/chrX_bwt/chrX_map.txt\", dtype=int)"
   ]
  },
  {
   "cell_type": "code",
   "execution_count": 18,
   "id": "180bbfbf",
   "metadata": {},
   "outputs": [],
   "source": [
    "def load_sequence():\n",
    "    text_file = open(\"../data/chrX_bwt/chrX_last_col.txt\", \"r\")\n",
    "    last_column = text_file.read().replace('\\n', \"\")\n",
    "    print(f\"characters in last column: {len(last_column)}\")\n",
    "    print(f\"Total count of A,C,G,T {last_column.count('A') + last_column.count('C') + last_column.count('G') + last_column.count('T')}\")\n",
    "    print(f\"count of A,C,G,T individually {last_column.count('A')},  {last_column.count('C')}, {last_column.count('G')}, {last_column.count('T')}\")\n",
    "    print(f\"character set observed {set(last_column)}\")\n",
    "    print()\n",
    "    return last_column"
   ]
  },
  {
   "cell_type": "code",
   "execution_count": 19,
   "id": "3b95980b",
   "metadata": {},
   "outputs": [],
   "source": [
    "# Get 0-1 array of all characters\n",
    "def get_bin_array(reference_seq):\n",
    "    binary_array = np.zeros([len(reference_seq), 5])\n",
    "    for i, ch in enumerate(reference_seq):\n",
    "        binary_array[i][index[ch]] = 1\n",
    "    return binary_array"
   ]
  },
  {
   "cell_type": "code",
   "execution_count": 20,
   "id": "cbdb473e",
   "metadata": {},
   "outputs": [],
   "source": [
    "# Calculates delta sum matrix\n",
    "def get_delta_sum(binary_arr):\n",
    "    size = math.ceil(len(binary_arr) / delta + 1)\n",
    "    sum_arr = np.zeros([size + 1, 5])\n",
    "    for i in range(1, size + 1):\n",
    "        sum_arr[i] = sum_arr[i - 1] + np.sum(binary_arr[(i - 1) * delta: min(len(binary_arr), i * delta)], axis=0)\n",
    "    return sum_arr"
   ]
  },
  {
   "cell_type": "code",
   "execution_count": 21,
   "id": "6c4b2c4f",
   "metadata": {},
   "outputs": [],
   "source": [
    "# Returns first and last rank of a character in the range start - end\n",
    "def rank(start, end, binary_arr, sum_arr, delta, ch):\n",
    "    (i, j) = (int(start / delta), int(end / delta))\n",
    "    if sum_arr[i][index[ch]] == sum_arr[j][index[ch]] and \\\n",
    "            np.sum(binary_arr[start:end + 1], axis=0)[index[ch]] == 0:\n",
    "        return -1, -1\n",
    "\n",
    "    first = sum_arr[i][index[ch]] + np.sum(binary_arr[int(i * delta): start], axis=0)[index[ch]] + 1\n",
    "    last = sum_arr[j][index[ch]] + np.sum(binary_arr[j * delta: end + 1], axis=0)[index[ch]]\n",
    "\n",
    "    return first, last"
   ]
  },
  {
   "cell_type": "code",
   "execution_count": 22,
   "id": "5887e8c2",
   "metadata": {},
   "outputs": [],
   "source": [
    "# load reads from file\n",
    "def load_reads():\n",
    "    text_file = open(\"../data/chrX_bwt/reads\", \"r\")\n",
    "    reads = text_file.readlines()\n",
    "    reads = [read.replace('\\n', \"\").replace('N', \"A\") for read in reads]\n",
    "    return reads"
   ]
  },
  {
   "cell_type": "code",
   "execution_count": 23,
   "id": "4968dfa8",
   "metadata": {},
   "outputs": [],
   "source": [
    "def get_exons():\n",
    "    red = [(149249757, 149249868), (149256127, 149256423), (149258412, 149258580), (149260048, 149260213),\n",
    "           (149261768, 149262007), (149264290, 149264400)]\n",
    "\n",
    "    green = [(149288166, 149288277), (149295542, 149295710), (149293258, 149293554), (149297178, 149297343),\n",
    "             (149298898, 149299137), (149301420, 149301530)]\n",
    "    return red, green"
   ]
  },
  {
   "cell_type": "code",
   "execution_count": 24,
   "id": "a1087072",
   "metadata": {},
   "outputs": [],
   "source": [
    "def get_gene_score(start, end, red, green, data_map, l):\n",
    "    g = False\n",
    "    r = False\n",
    "    for i in range(start, end + 1):\n",
    "        for gene in red:\n",
    "            if data_map[i] >= gene[0] and data_map[i] + l <= gene[1]:\n",
    "                r = True\n",
    "        for gene in green:\n",
    "            if data_map[i] >= gene[0] and data_map[i] + l <= gene[1]:\n",
    "                g = True\n",
    "    if r and g:\n",
    "        return 0.5, 0.5\n",
    "    elif g:\n",
    "        return 0, 1\n",
    "    elif r:\n",
    "        return 1, 0\n",
    "    else:\n",
    "        return 0, 0"
   ]
  },
  {
   "cell_type": "code",
   "execution_count": 25,
   "id": "e87c4d9e",
   "metadata": {},
   "outputs": [],
   "source": [
    "def match_to_reference_string(read1, binary_arr, sum_arr, delta, mis_matches=2):\n",
    "    start = 0\n",
    "    end = len(binary_arr) - 1\n",
    "    for ch in reversed(read1):\n",
    "        (start_rank, end_rank) = rank(start, end, binary_arr, sum_arr, delta, ch)\n",
    "        if start_rank == -1:\n",
    "            if mis_matches > 0:\n",
    "                mis_matches -= 1\n",
    "                continue\n",
    "            return start_rank, end_rank\n",
    "        start = int(offset[ch] + start_rank)\n",
    "        end = int(offset[ch] + end_rank)\n",
    "    return start, end"
   ]
  },
  {
   "cell_type": "code",
   "execution_count": 28,
   "id": "d418d5d5",
   "metadata": {},
   "outputs": [],
   "source": [
    "def read_reverse(read):\n",
    "    for i, r in enumerate(read):\n",
    "        read = read[:i] + rev_map[r] + read[i + 1:]\n",
    "    return read[::-1]\n",
    "\n",
    "\n",
    "def match(read, arr, counts):\n",
    "    (start, end) = match_to_reference_string(read, arr, counts, delta)\n",
    "    if start == -1:\n",
    "        (start, end) = match_to_reference_string(read_reverse(read), arr, counts, delta)\n",
    "    return start, end"
   ]
  },
  {
   "cell_type": "code",
   "execution_count": null,
   "id": "87355e6d",
   "metadata": {},
   "outputs": [],
   "source": []
  },
  {
   "cell_type": "code",
   "execution_count": null,
   "id": "c759ea8d",
   "metadata": {},
   "outputs": [],
   "source": []
  },
  {
   "cell_type": "code",
   "execution_count": null,
   "id": "5697a236",
   "metadata": {},
   "outputs": [],
   "source": []
  },
  {
   "cell_type": "code",
   "execution_count": 31,
   "id": "2e3c9e9c",
   "metadata": {},
   "outputs": [
    {
     "name": "stdout",
     "output_type": "stream",
     "text": [
      "characters in last column: 151100561\n",
      "Total count of A,C,G,T 151100560\n",
      "count of A,C,G,T individually 45648952,  29813353, 29865831, 45772424\n",
      "character set observed {'A', '$', 'G', 'C', 'T'}\n",
      "\n"
     ]
    }
   ],
   "source": [
    "(red, green) = get_exons()\n",
    "reads = load_reads()\n",
    "p_red, p_green = 0, 0\n",
    "arr = get_bin_array(load_sequence())"
   ]
  },
  {
   "cell_type": "code",
   "execution_count": 32,
   "id": "0a03f07f",
   "metadata": {},
   "outputs": [],
   "source": [
    "counts = get_delta_sum(arr)"
   ]
  },
  {
   "cell_type": "code",
   "execution_count": null,
   "id": "d9f7bd1b",
   "metadata": {},
   "outputs": [],
   "source": []
  },
  {
   "cell_type": "code",
   "execution_count": null,
   "id": "5569bb62",
   "metadata": {},
   "outputs": [],
   "source": [
    "for read in reads:\n",
    "    (start, end) = match(read, arr, counts)\n",
    "    (r, g) = get_gene_score(start, end, red, green, data_map, len(read))\n",
    "    p_red += r\n",
    "    p_green += g\n",
    "    if(p_green!=0):\n",
    "        print(f\"current red - green percentage: {p_red * 100 / p_green}\")\n",
    "print(f\"Final red - green percentage: {p_red * 100 / p_green}\")"
   ]
  },
  {
   "cell_type": "code",
   "execution_count": null,
   "id": "3d39deee",
   "metadata": {},
   "outputs": [],
   "source": []
  },
  {
   "cell_type": "code",
   "execution_count": null,
   "id": "9314e600",
   "metadata": {},
   "outputs": [],
   "source": []
  }
 ],
 "metadata": {
  "kernelspec": {
   "display_name": "Python 3 (ipykernel)",
   "language": "python",
   "name": "python3"
  },
  "language_info": {
   "codemirror_mode": {
    "name": "ipython",
    "version": 3
   },
   "file_extension": ".py",
   "mimetype": "text/x-python",
   "name": "python",
   "nbconvert_exporter": "python",
   "pygments_lexer": "ipython3",
   "version": "3.11.1"
  }
 },
 "nbformat": 4,
 "nbformat_minor": 5
}
